{
    "cells": [
        {
            "cell_type": "code",
            "execution_count": null,
            "metadata": {},
            "outputs": [],
            "source": "import pandas as pd\nimport numpy as np\nimport requests\nfrom bs4 import BeautifulSoup\nimport os\nfrom sklearn.cluster import KMeans\n!conda install -c conda-forge folium=0.5.0\nimport folium \n!conda install -c conda-forge geopy\nfrom geopy.geocoders import Nominatim \nimport matplotlib.cm as cm\nimport matplotlib.colors as colors\n\n\nprint('Libraries imported.')"
        },
        {
            "cell_type": "markdown",
            "metadata": {},
            "source": "## Question-1. code to scrape the List of postal codes of Canada"
        },
        {
            "cell_type": "code",
            "execution_count": 7,
            "metadata": {},
            "outputs": [],
            "source": "List_url = \"https://en.wikipedia.org/wiki/List_of_postal_codes_of_Canada:_M\"\nsource = requests.get(List_url).text"
        },
        {
            "cell_type": "code",
            "execution_count": 8,
            "metadata": {},
            "outputs": [],
            "source": "soup = BeautifulSoup(source, 'xml')"
        },
        {
            "cell_type": "code",
            "execution_count": 9,
            "metadata": {},
            "outputs": [],
            "source": "table=soup.find('table')"
        },
        {
            "cell_type": "code",
            "execution_count": 10,
            "metadata": {},
            "outputs": [],
            "source": "column_names = ['Postalcode','Borough','Neighborhood']\ndf = pd.DataFrame(columns = column_names)"
        },
        {
            "cell_type": "code",
            "execution_count": 11,
            "metadata": {},
            "outputs": [],
            "source": "for tr_cell in table.find_all('tr'):\n    row_data=[]\n    for td_cell in tr_cell.find_all('td'):\n        row_data.append(td_cell.text.strip())\n    if len(row_data)==3:\n        df.loc[len(df)] = row_data"
        },
        {
            "cell_type": "code",
            "execution_count": 12,
            "metadata": {},
            "outputs": [
                {
                    "data": {
                        "text/html": "<div>\n<style scoped>\n    .dataframe tbody tr th:only-of-type {\n        vertical-align: middle;\n    }\n\n    .dataframe tbody tr th {\n        vertical-align: top;\n    }\n\n    .dataframe thead th {\n        text-align: right;\n    }\n</style>\n<table border=\"1\" class=\"dataframe\">\n  <thead>\n    <tr style=\"text-align: right;\">\n      <th></th>\n      <th>Postalcode</th>\n      <th>Borough</th>\n      <th>Neighborhood</th>\n    </tr>\n  </thead>\n  <tbody>\n    <tr>\n      <th>0</th>\n      <td>M1A</td>\n      <td>Not assigned</td>\n      <td>Not assigned</td>\n    </tr>\n    <tr>\n      <th>1</th>\n      <td>M2A</td>\n      <td>Not assigned</td>\n      <td>Not assigned</td>\n    </tr>\n    <tr>\n      <th>2</th>\n      <td>M3A</td>\n      <td>North York</td>\n      <td>Parkwoods</td>\n    </tr>\n    <tr>\n      <th>3</th>\n      <td>M4A</td>\n      <td>North York</td>\n      <td>Victoria Village</td>\n    </tr>\n    <tr>\n      <th>4</th>\n      <td>M5A</td>\n      <td>Downtown Toronto</td>\n      <td>Regent Park, Harbourfront</td>\n    </tr>\n  </tbody>\n</table>\n</div>",
                        "text/plain": "  Postalcode           Borough               Neighborhood\n0        M1A      Not assigned               Not assigned\n1        M2A      Not assigned               Not assigned\n2        M3A        North York                  Parkwoods\n3        M4A        North York           Victoria Village\n4        M5A  Downtown Toronto  Regent Park, Harbourfront"
                    },
                    "execution_count": 12,
                    "metadata": {},
                    "output_type": "execute_result"
                }
            ],
            "source": "df.head()"
        },
        {
            "cell_type": "markdown",
            "metadata": {},
            "source": "## Question-1. Cleaning the data and remove the rows where Borough is 'Not assigned'\n"
        },
        {
            "cell_type": "code",
            "execution_count": 13,
            "metadata": {},
            "outputs": [],
            "source": "df=df[df['Borough']!='Not assigned']"
        },
        {
            "cell_type": "code",
            "execution_count": 14,
            "metadata": {},
            "outputs": [
                {
                    "data": {
                        "text/html": "<div>\n<style scoped>\n    .dataframe tbody tr th:only-of-type {\n        vertical-align: middle;\n    }\n\n    .dataframe tbody tr th {\n        vertical-align: top;\n    }\n\n    .dataframe thead th {\n        text-align: right;\n    }\n</style>\n<table border=\"1\" class=\"dataframe\">\n  <thead>\n    <tr style=\"text-align: right;\">\n      <th></th>\n      <th>Postalcode</th>\n      <th>Borough</th>\n      <th>Neighborhood</th>\n    </tr>\n  </thead>\n  <tbody>\n    <tr>\n      <th>2</th>\n      <td>M3A</td>\n      <td>North York</td>\n      <td>Parkwoods</td>\n    </tr>\n    <tr>\n      <th>3</th>\n      <td>M4A</td>\n      <td>North York</td>\n      <td>Victoria Village</td>\n    </tr>\n    <tr>\n      <th>4</th>\n      <td>M5A</td>\n      <td>Downtown Toronto</td>\n      <td>Regent Park, Harbourfront</td>\n    </tr>\n    <tr>\n      <th>5</th>\n      <td>M6A</td>\n      <td>North York</td>\n      <td>Lawrence Manor, Lawrence Heights</td>\n    </tr>\n    <tr>\n      <th>6</th>\n      <td>M7A</td>\n      <td>Downtown Toronto</td>\n      <td>Queen's Park, Ontario Provincial Government</td>\n    </tr>\n  </tbody>\n</table>\n</div>",
                        "text/plain": "  Postalcode           Borough                                 Neighborhood\n2        M3A        North York                                    Parkwoods\n3        M4A        North York                             Victoria Village\n4        M5A  Downtown Toronto                    Regent Park, Harbourfront\n5        M6A        North York             Lawrence Manor, Lawrence Heights\n6        M7A  Downtown Toronto  Queen's Park, Ontario Provincial Government"
                    },
                    "execution_count": 14,
                    "metadata": {},
                    "output_type": "execute_result"
                }
            ],
            "source": "df.head()"
        },
        {
            "cell_type": "code",
            "execution_count": 16,
            "metadata": {},
            "outputs": [
                {
                    "data": {
                        "text/html": "<div>\n<style scoped>\n    .dataframe tbody tr th:only-of-type {\n        vertical-align: middle;\n    }\n\n    .dataframe tbody tr th {\n        vertical-align: top;\n    }\n\n    .dataframe thead th {\n        text-align: right;\n    }\n</style>\n<table border=\"1\" class=\"dataframe\">\n  <thead>\n    <tr style=\"text-align: right;\">\n      <th></th>\n      <th>Postalcode</th>\n      <th>Borough</th>\n      <th>Neighborhood</th>\n    </tr>\n  </thead>\n  <tbody>\n    <tr>\n      <th>0</th>\n      <td>M3A</td>\n      <td>North York</td>\n      <td>Parkwoods</td>\n    </tr>\n    <tr>\n      <th>1</th>\n      <td>M4A</td>\n      <td>North York</td>\n      <td>Victoria Village</td>\n    </tr>\n    <tr>\n      <th>2</th>\n      <td>M5A</td>\n      <td>Downtown Toronto</td>\n      <td>Regent Park, Harbourfront</td>\n    </tr>\n    <tr>\n      <th>3</th>\n      <td>M6A</td>\n      <td>North York</td>\n      <td>Lawrence Manor, Lawrence Heights</td>\n    </tr>\n    <tr>\n      <th>4</th>\n      <td>M7A</td>\n      <td>Downtown Toronto</td>\n      <td>Queen's Park, Ontario Provincial Government</td>\n    </tr>\n  </tbody>\n</table>\n</div>",
                        "text/plain": "  Postalcode           Borough                                 Neighborhood\n0        M3A        North York                                    Parkwoods\n1        M4A        North York                             Victoria Village\n2        M5A  Downtown Toronto                    Regent Park, Harbourfront\n3        M6A        North York             Lawrence Manor, Lawrence Heights\n4        M7A  Downtown Toronto  Queen's Park, Ontario Provincial Government"
                    },
                    "execution_count": 16,
                    "metadata": {},
                    "output_type": "execute_result"
                }
            ],
            "source": "temp_df=df.groupby('Postalcode')['Neighborhood'].apply(lambda x: \"%s\" % ', '.join(x))\ntemp_df=temp_df.reset_index(drop=False)\ntemp_df.rename(columns={'Neighborhood':'Neighborhood_joined'},inplace=True)\n\ndf_merge = pd.merge(df, temp_df, on='Postalcode')\ndf_merge.drop(['Neighborhood'],axis=1,inplace=True)\ndf_merge.drop_duplicates(inplace=True)\ndf_merge.rename(columns={'Neighborhood_joined':'Neighborhood'},inplace=True)\ndf_merge.head()"
        },
        {
            "cell_type": "code",
            "execution_count": 17,
            "metadata": {},
            "outputs": [
                {
                    "data": {
                        "text/plain": "(103, 3)"
                    },
                    "execution_count": 17,
                    "metadata": {},
                    "output_type": "execute_result"
                }
            ],
            "source": "df_merge.shape"
        },
        {
            "cell_type": "markdown",
            "metadata": {},
            "source": "## Question-2. Using  the Geospatial data and create the dataframe"
        },
        {
            "cell_type": "code",
            "execution_count": 18,
            "metadata": {},
            "outputs": [],
            "source": "def get_geocode(postal_code):\n    # initialize your variable to None\n    lat_lng_coords = None\n    while(lat_lng_coords is None):\n        g = geocoder.google('{}, Toronto, Ontario'.format(postal_code))\n        lat_lng_coords = g.latlng\n    latitude = lat_lng_coords[0]\n    longitude = lat_lng_coords[1]\n    return latitude,longitude"
        },
        {
            "cell_type": "code",
            "execution_count": 19,
            "metadata": {},
            "outputs": [],
            "source": "geo_df=pd.read_csv('http://cocl.us/Geospatial_data')"
        },
        {
            "cell_type": "code",
            "execution_count": 20,
            "metadata": {},
            "outputs": [
                {
                    "data": {
                        "text/html": "<div>\n<style scoped>\n    .dataframe tbody tr th:only-of-type {\n        vertical-align: middle;\n    }\n\n    .dataframe tbody tr th {\n        vertical-align: top;\n    }\n\n    .dataframe thead th {\n        text-align: right;\n    }\n</style>\n<table border=\"1\" class=\"dataframe\">\n  <thead>\n    <tr style=\"text-align: right;\">\n      <th></th>\n      <th>Postal Code</th>\n      <th>Latitude</th>\n      <th>Longitude</th>\n    </tr>\n  </thead>\n  <tbody>\n    <tr>\n      <th>0</th>\n      <td>M1B</td>\n      <td>43.806686</td>\n      <td>-79.194353</td>\n    </tr>\n    <tr>\n      <th>1</th>\n      <td>M1C</td>\n      <td>43.784535</td>\n      <td>-79.160497</td>\n    </tr>\n    <tr>\n      <th>2</th>\n      <td>M1E</td>\n      <td>43.763573</td>\n      <td>-79.188711</td>\n    </tr>\n    <tr>\n      <th>3</th>\n      <td>M1G</td>\n      <td>43.770992</td>\n      <td>-79.216917</td>\n    </tr>\n    <tr>\n      <th>4</th>\n      <td>M1H</td>\n      <td>43.773136</td>\n      <td>-79.239476</td>\n    </tr>\n  </tbody>\n</table>\n</div>",
                        "text/plain": "  Postal Code   Latitude  Longitude\n0         M1B  43.806686 -79.194353\n1         M1C  43.784535 -79.160497\n2         M1E  43.763573 -79.188711\n3         M1G  43.770992 -79.216917\n4         M1H  43.773136 -79.239476"
                    },
                    "execution_count": 20,
                    "metadata": {},
                    "output_type": "execute_result"
                }
            ],
            "source": "geo_df.head()"
        },
        {
            "cell_type": "code",
            "execution_count": 21,
            "metadata": {},
            "outputs": [],
            "source": "geo_df.rename(columns={'Postal Code':'Postalcode'},inplace=True)\ngeo_merged = pd.merge(geo_df, df_merge, on='Postalcode')"
        },
        {
            "cell_type": "code",
            "execution_count": 22,
            "metadata": {},
            "outputs": [
                {
                    "data": {
                        "text/html": "<div>\n<style scoped>\n    .dataframe tbody tr th:only-of-type {\n        vertical-align: middle;\n    }\n\n    .dataframe tbody tr th {\n        vertical-align: top;\n    }\n\n    .dataframe thead th {\n        text-align: right;\n    }\n</style>\n<table border=\"1\" class=\"dataframe\">\n  <thead>\n    <tr style=\"text-align: right;\">\n      <th></th>\n      <th>Postalcode</th>\n      <th>Latitude</th>\n      <th>Longitude</th>\n      <th>Borough</th>\n      <th>Neighborhood</th>\n    </tr>\n  </thead>\n  <tbody>\n    <tr>\n      <th>0</th>\n      <td>M1B</td>\n      <td>43.806686</td>\n      <td>-79.194353</td>\n      <td>Scarborough</td>\n      <td>Malvern, Rouge</td>\n    </tr>\n    <tr>\n      <th>1</th>\n      <td>M1C</td>\n      <td>43.784535</td>\n      <td>-79.160497</td>\n      <td>Scarborough</td>\n      <td>Rouge Hill, Port Union, Highland Creek</td>\n    </tr>\n    <tr>\n      <th>2</th>\n      <td>M1E</td>\n      <td>43.763573</td>\n      <td>-79.188711</td>\n      <td>Scarborough</td>\n      <td>Guildwood, Morningside, West Hill</td>\n    </tr>\n    <tr>\n      <th>3</th>\n      <td>M1G</td>\n      <td>43.770992</td>\n      <td>-79.216917</td>\n      <td>Scarborough</td>\n      <td>Woburn</td>\n    </tr>\n    <tr>\n      <th>4</th>\n      <td>M1H</td>\n      <td>43.773136</td>\n      <td>-79.239476</td>\n      <td>Scarborough</td>\n      <td>Cedarbrae</td>\n    </tr>\n  </tbody>\n</table>\n</div>",
                        "text/plain": "  Postalcode   Latitude  Longitude      Borough  \\\n0        M1B  43.806686 -79.194353  Scarborough   \n1        M1C  43.784535 -79.160497  Scarborough   \n2        M1E  43.763573 -79.188711  Scarborough   \n3        M1G  43.770992 -79.216917  Scarborough   \n4        M1H  43.773136 -79.239476  Scarborough   \n\n                             Neighborhood  \n0                          Malvern, Rouge  \n1  Rouge Hill, Port Union, Highland Creek  \n2       Guildwood, Morningside, West Hill  \n3                                  Woburn  \n4                               Cedarbrae  "
                    },
                    "execution_count": 22,
                    "metadata": {},
                    "output_type": "execute_result"
                }
            ],
            "source": "geo_merged.head()"
        },
        {
            "cell_type": "code",
            "execution_count": 23,
            "metadata": {},
            "outputs": [],
            "source": "geo_data=geo_merged[['Postalcode','Borough','Neighborhood','Latitude','Longitude']]"
        },
        {
            "cell_type": "code",
            "execution_count": 24,
            "metadata": {},
            "outputs": [
                {
                    "data": {
                        "text/html": "<div>\n<style scoped>\n    .dataframe tbody tr th:only-of-type {\n        vertical-align: middle;\n    }\n\n    .dataframe tbody tr th {\n        vertical-align: top;\n    }\n\n    .dataframe thead th {\n        text-align: right;\n    }\n</style>\n<table border=\"1\" class=\"dataframe\">\n  <thead>\n    <tr style=\"text-align: right;\">\n      <th></th>\n      <th>Postalcode</th>\n      <th>Borough</th>\n      <th>Neighborhood</th>\n      <th>Latitude</th>\n      <th>Longitude</th>\n    </tr>\n  </thead>\n  <tbody>\n    <tr>\n      <th>0</th>\n      <td>M1B</td>\n      <td>Scarborough</td>\n      <td>Malvern, Rouge</td>\n      <td>43.806686</td>\n      <td>-79.194353</td>\n    </tr>\n    <tr>\n      <th>1</th>\n      <td>M1C</td>\n      <td>Scarborough</td>\n      <td>Rouge Hill, Port Union, Highland Creek</td>\n      <td>43.784535</td>\n      <td>-79.160497</td>\n    </tr>\n    <tr>\n      <th>2</th>\n      <td>M1E</td>\n      <td>Scarborough</td>\n      <td>Guildwood, Morningside, West Hill</td>\n      <td>43.763573</td>\n      <td>-79.188711</td>\n    </tr>\n    <tr>\n      <th>3</th>\n      <td>M1G</td>\n      <td>Scarborough</td>\n      <td>Woburn</td>\n      <td>43.770992</td>\n      <td>-79.216917</td>\n    </tr>\n    <tr>\n      <th>4</th>\n      <td>M1H</td>\n      <td>Scarborough</td>\n      <td>Cedarbrae</td>\n      <td>43.773136</td>\n      <td>-79.239476</td>\n    </tr>\n  </tbody>\n</table>\n</div>",
                        "text/plain": "  Postalcode      Borough                            Neighborhood   Latitude  \\\n0        M1B  Scarborough                          Malvern, Rouge  43.806686   \n1        M1C  Scarborough  Rouge Hill, Port Union, Highland Creek  43.784535   \n2        M1E  Scarborough       Guildwood, Morningside, West Hill  43.763573   \n3        M1G  Scarborough                                  Woburn  43.770992   \n4        M1H  Scarborough                               Cedarbrae  43.773136   \n\n   Longitude  \n0 -79.194353  \n1 -79.160497  \n2 -79.188711  \n3 -79.216917  \n4 -79.239476  "
                    },
                    "execution_count": 24,
                    "metadata": {},
                    "output_type": "execute_result"
                }
            ],
            "source": "geo_data.head()"
        },
        {
            "cell_type": "markdown",
            "metadata": {},
            "source": "## Question 3:"
        },
        {
            "cell_type": "code",
            "execution_count": 49,
            "metadata": {},
            "outputs": [
                {
                    "ename": "ModuleNotFoundError",
                    "evalue": "No module named 'folium'",
                    "output_type": "error",
                    "traceback": [
                        "\u001b[0;31m---------------------------------------------------------------------------\u001b[0m",
                        "\u001b[0;31mModuleNotFoundError\u001b[0m                       Traceback (most recent call last)",
                        "\u001b[0;32m<ipython-input-49-9ca80ad40ec5>\u001b[0m in \u001b[0;36m<module>\u001b[0;34m\u001b[0m\n\u001b[1;32m      5\u001b[0m \u001b[0;32mimport\u001b[0m \u001b[0mos\u001b[0m\u001b[0;34m\u001b[0m\u001b[0;34m\u001b[0m\u001b[0m\n\u001b[1;32m      6\u001b[0m \u001b[0;32mfrom\u001b[0m \u001b[0msklearn\u001b[0m\u001b[0;34m.\u001b[0m\u001b[0mcluster\u001b[0m \u001b[0;32mimport\u001b[0m \u001b[0mKMeans\u001b[0m\u001b[0;34m\u001b[0m\u001b[0;34m\u001b[0m\u001b[0m\n\u001b[0;32m----> 7\u001b[0;31m \u001b[0;32mimport\u001b[0m \u001b[0mfolium\u001b[0m\u001b[0;34m\u001b[0m\u001b[0;34m\u001b[0m\u001b[0m\n\u001b[0m\u001b[1;32m      8\u001b[0m \u001b[0;32mfrom\u001b[0m \u001b[0mgeopy\u001b[0m\u001b[0;34m.\u001b[0m\u001b[0mgeocoders\u001b[0m \u001b[0;32mimport\u001b[0m \u001b[0mNominatim\u001b[0m\u001b[0;34m\u001b[0m\u001b[0;34m\u001b[0m\u001b[0m\n\u001b[1;32m      9\u001b[0m \u001b[0;32mimport\u001b[0m \u001b[0mmatplotlib\u001b[0m\u001b[0;34m.\u001b[0m\u001b[0mcm\u001b[0m \u001b[0;32mas\u001b[0m \u001b[0mcm\u001b[0m\u001b[0;34m\u001b[0m\u001b[0;34m\u001b[0m\u001b[0m\n",
                        "\u001b[0;31mModuleNotFoundError\u001b[0m: No module named 'folium'"
                    ]
                }
            ],
            "source": "import pandas as pd\nimport numpy as np\nimport requests\nfrom bs4 import BeautifulSoup\nimport os\nfrom sklearn.cluster import KMeans\nimport folium \nfrom geopy.geocoders import Nominatim \nimport matplotlib.cm as cm\nimport matplotlib.colors as colors\n\n\nprint('Libraries imported.')"
        },
        {
            "cell_type": "code",
            "execution_count": 25,
            "metadata": {},
            "outputs": [
                {
                    "data": {
                        "text/html": "<div>\n<style scoped>\n    .dataframe tbody tr th:only-of-type {\n        vertical-align: middle;\n    }\n\n    .dataframe tbody tr th {\n        vertical-align: top;\n    }\n\n    .dataframe thead th {\n        text-align: right;\n    }\n</style>\n<table border=\"1\" class=\"dataframe\">\n  <thead>\n    <tr style=\"text-align: right;\">\n      <th></th>\n      <th>Postalcode</th>\n      <th>Borough</th>\n      <th>Neighborhood</th>\n      <th>Latitude</th>\n      <th>Longitude</th>\n    </tr>\n  </thead>\n  <tbody>\n    <tr>\n      <th>37</th>\n      <td>M4E</td>\n      <td>East Toronto</td>\n      <td>The Beaches</td>\n      <td>43.676357</td>\n      <td>-79.293031</td>\n    </tr>\n    <tr>\n      <th>41</th>\n      <td>M4K</td>\n      <td>East Toronto</td>\n      <td>The Danforth West, Riverdale</td>\n      <td>43.679557</td>\n      <td>-79.352188</td>\n    </tr>\n    <tr>\n      <th>42</th>\n      <td>M4L</td>\n      <td>East Toronto</td>\n      <td>India Bazaar, The Beaches West</td>\n      <td>43.668999</td>\n      <td>-79.315572</td>\n    </tr>\n    <tr>\n      <th>43</th>\n      <td>M4M</td>\n      <td>East Toronto</td>\n      <td>Studio District</td>\n      <td>43.659526</td>\n      <td>-79.340923</td>\n    </tr>\n    <tr>\n      <th>44</th>\n      <td>M4N</td>\n      <td>Central Toronto</td>\n      <td>Lawrence Park</td>\n      <td>43.728020</td>\n      <td>-79.388790</td>\n    </tr>\n  </tbody>\n</table>\n</div>",
                        "text/plain": "   Postalcode          Borough                    Neighborhood   Latitude  \\\n37        M4E     East Toronto                     The Beaches  43.676357   \n41        M4K     East Toronto    The Danforth West, Riverdale  43.679557   \n42        M4L     East Toronto  India Bazaar, The Beaches West  43.668999   \n43        M4M     East Toronto                 Studio District  43.659526   \n44        M4N  Central Toronto                   Lawrence Park  43.728020   \n\n    Longitude  \n37 -79.293031  \n41 -79.352188  \n42 -79.315572  \n43 -79.340923  \n44 -79.388790  "
                    },
                    "execution_count": 25,
                    "metadata": {},
                    "output_type": "execute_result"
                }
            ],
            "source": "toronto_data=geo_data[geo_data['Borough'].str.contains(\"Toronto\")]\ntoronto_data.head()"
        },
        {
            "cell_type": "code",
            "execution_count": 26,
            "metadata": {},
            "outputs": [],
            "source": "CLIENT_ID = '2HGAUKQVFTVG0BSKEYDHR3FYDIKDSOVO1NXJM20H41OSYQS5' \nCLIENT_SECRET = 'TSDNWAN5GHAM3REAENH1ZWK0CU32HZAJOLA31JS3MOYF0ROI' \nVERSION = '20201707'"
        },
        {
            "cell_type": "code",
            "execution_count": 27,
            "metadata": {},
            "outputs": [],
            "source": "def getNearbyVenues(names, latitudes, longitudes):\n    radius=500\n    LIMIT=100\n    venues_list=[]\n    for name, lat, lng in zip(names, latitudes, longitudes):\n        print(name)\n            \n        \n        url = 'https://api.foursquare.com/v2/venues/explore?&client_id={}&client_secret={}&v={}&ll={},{}&radius={}&limit={}'.format(\n            CLIENT_ID, \n            CLIENT_SECRET, \n            VERSION, \n            lat, \n            lng, \n            radius, \n            LIMIT)\n            \n        \n        results = requests.get(url).json()[\"response\"]['groups'][0]['items']\n        \n        \n        venues_list.append([(\n            name, \n            lat, \n            lng, \n            v['venue']['name'], \n            v['venue']['location']['lat'], \n            v['venue']['location']['lng'],  \n            v['venue']['categories'][0]['name']) for v in results])\n\n    nearby_venues = pd.DataFrame([item for venue_list in venues_list for item in venue_list])\n    nearby_venues.columns = ['Neighborhood', \n                  'Neighborhood Latitude', \n                  'Neighborhood Longitude', \n                  'Venue', \n                  'Venue Latitude', \n                  'Venue Longitude', \n                  'Venue Category']\n    \n    return(nearby_venues)"
        },
        {
            "cell_type": "code",
            "execution_count": 30,
            "metadata": {},
            "outputs": [
                {
                    "name": "stdout",
                    "output_type": "stream",
                    "text": "The Beaches\nThe Danforth West, Riverdale\nIndia Bazaar, The Beaches West\nStudio District\nLawrence Park\nDavisville North\nNorth Toronto West,  Lawrence Park\nDavisville\nMoore Park, Summerhill East\nSummerhill West, Rathnelly, South Hill, Forest Hill SE, Deer Park\nRosedale\nSt. James Town, Cabbagetown\nChurch and Wellesley\nRegent Park, Harbourfront\nGarden District, Ryerson\nSt. James Town\nBerczy Park\nCentral Bay Street\nRichmond, Adelaide, King\nHarbourfront East, Union Station, Toronto Islands\nToronto Dominion Centre, Design Exchange\nCommerce Court, Victoria Hotel\nRoselawn\nForest Hill North & West, Forest Hill Road Park\nThe Annex, North Midtown, Yorkville\nUniversity of Toronto, Harbord\nKensington Market, Chinatown, Grange Park\nCN Tower, King and Spadina, Railway Lands, Harbourfront West, Bathurst Quay, South Niagara, Island airport\nStn A PO Boxes\nFirst Canadian Place, Underground city\nChristie\nDufferin, Dovercourt Village\nLittle Portugal, Trinity\nBrockton, Parkdale Village, Exhibition Place\nHigh Park, The Junction South\nParkdale, Roncesvalles\nRunnymede, Swansea\nQueen's Park, Ontario Provincial Government\nBusiness reply mail Processing Centre, South Central Letter Processing Plant Toronto\n"
                }
            ],
            "source": "toronto_venues = getNearbyVenues(names=toronto_data['Neighborhood'],\n                                   latitudes=toronto_data['Latitude'],\n                                   longitudes=toronto_data['Longitude']\n                                  )"
        },
        {
            "cell_type": "code",
            "execution_count": 31,
            "metadata": {},
            "outputs": [
                {
                    "data": {
                        "text/html": "<div>\n<style scoped>\n    .dataframe tbody tr th:only-of-type {\n        vertical-align: middle;\n    }\n\n    .dataframe tbody tr th {\n        vertical-align: top;\n    }\n\n    .dataframe thead th {\n        text-align: right;\n    }\n</style>\n<table border=\"1\" class=\"dataframe\">\n  <thead>\n    <tr style=\"text-align: right;\">\n      <th></th>\n      <th>Neighborhood</th>\n      <th>Neighborhood Latitude</th>\n      <th>Neighborhood Longitude</th>\n      <th>Venue</th>\n      <th>Venue Latitude</th>\n      <th>Venue Longitude</th>\n      <th>Venue Category</th>\n    </tr>\n  </thead>\n  <tbody>\n    <tr>\n      <th>0</th>\n      <td>The Beaches</td>\n      <td>43.676357</td>\n      <td>-79.293031</td>\n      <td>Glen Manor Ravine</td>\n      <td>43.676821</td>\n      <td>-79.293942</td>\n      <td>Trail</td>\n    </tr>\n    <tr>\n      <th>1</th>\n      <td>The Beaches</td>\n      <td>43.676357</td>\n      <td>-79.293031</td>\n      <td>The Big Carrot Natural Food Market</td>\n      <td>43.678879</td>\n      <td>-79.297734</td>\n      <td>Health Food Store</td>\n    </tr>\n    <tr>\n      <th>2</th>\n      <td>The Beaches</td>\n      <td>43.676357</td>\n      <td>-79.293031</td>\n      <td>Grover Pub and Grub</td>\n      <td>43.679181</td>\n      <td>-79.297215</td>\n      <td>Pub</td>\n    </tr>\n    <tr>\n      <th>3</th>\n      <td>The Beaches</td>\n      <td>43.676357</td>\n      <td>-79.293031</td>\n      <td>Upper Beaches</td>\n      <td>43.680563</td>\n      <td>-79.292869</td>\n      <td>Neighborhood</td>\n    </tr>\n    <tr>\n      <th>4</th>\n      <td>The Danforth West, Riverdale</td>\n      <td>43.679557</td>\n      <td>-79.352188</td>\n      <td>MenEssentials</td>\n      <td>43.677820</td>\n      <td>-79.351265</td>\n      <td>Cosmetics Shop</td>\n    </tr>\n  </tbody>\n</table>\n</div>",
                        "text/plain": "                   Neighborhood  Neighborhood Latitude  \\\n0                   The Beaches              43.676357   \n1                   The Beaches              43.676357   \n2                   The Beaches              43.676357   \n3                   The Beaches              43.676357   \n4  The Danforth West, Riverdale              43.679557   \n\n   Neighborhood Longitude                               Venue  Venue Latitude  \\\n0              -79.293031                   Glen Manor Ravine       43.676821   \n1              -79.293031  The Big Carrot Natural Food Market       43.678879   \n2              -79.293031                 Grover Pub and Grub       43.679181   \n3              -79.293031                       Upper Beaches       43.680563   \n4              -79.352188                       MenEssentials       43.677820   \n\n   Venue Longitude     Venue Category  \n0       -79.293942              Trail  \n1       -79.297734  Health Food Store  \n2       -79.297215                Pub  \n3       -79.292869       Neighborhood  \n4       -79.351265     Cosmetics Shop  "
                    },
                    "execution_count": 31,
                    "metadata": {},
                    "output_type": "execute_result"
                }
            ],
            "source": "toronto_venues.head()"
        },
        {
            "cell_type": "code",
            "execution_count": 32,
            "metadata": {},
            "outputs": [
                {
                    "data": {
                        "text/html": "<div>\n<style scoped>\n    .dataframe tbody tr th:only-of-type {\n        vertical-align: middle;\n    }\n\n    .dataframe tbody tr th {\n        vertical-align: top;\n    }\n\n    .dataframe thead th {\n        text-align: right;\n    }\n</style>\n<table border=\"1\" class=\"dataframe\">\n  <thead>\n    <tr style=\"text-align: right;\">\n      <th></th>\n      <th>Neighborhood Latitude</th>\n      <th>Neighborhood Longitude</th>\n      <th>Venue</th>\n      <th>Venue Latitude</th>\n      <th>Venue Longitude</th>\n      <th>Venue Category</th>\n    </tr>\n    <tr>\n      <th>Neighborhood</th>\n      <th></th>\n      <th></th>\n      <th></th>\n      <th></th>\n      <th></th>\n      <th></th>\n    </tr>\n  </thead>\n  <tbody>\n    <tr>\n      <th>Berczy Park</th>\n      <td>57</td>\n      <td>57</td>\n      <td>57</td>\n      <td>57</td>\n      <td>57</td>\n      <td>57</td>\n    </tr>\n    <tr>\n      <th>Brockton, Parkdale Village, Exhibition Place</th>\n      <td>24</td>\n      <td>24</td>\n      <td>24</td>\n      <td>24</td>\n      <td>24</td>\n      <td>24</td>\n    </tr>\n    <tr>\n      <th>Business reply mail Processing Centre, South Central Letter Processing Plant Toronto</th>\n      <td>17</td>\n      <td>17</td>\n      <td>17</td>\n      <td>17</td>\n      <td>17</td>\n      <td>17</td>\n    </tr>\n    <tr>\n      <th>CN Tower, King and Spadina, Railway Lands, Harbourfront West, Bathurst Quay, South Niagara, Island airport</th>\n      <td>16</td>\n      <td>16</td>\n      <td>16</td>\n      <td>16</td>\n      <td>16</td>\n      <td>16</td>\n    </tr>\n    <tr>\n      <th>Central Bay Street</th>\n      <td>70</td>\n      <td>70</td>\n      <td>70</td>\n      <td>70</td>\n      <td>70</td>\n      <td>70</td>\n    </tr>\n    <tr>\n      <th>Christie</th>\n      <td>17</td>\n      <td>17</td>\n      <td>17</td>\n      <td>17</td>\n      <td>17</td>\n      <td>17</td>\n    </tr>\n    <tr>\n      <th>Church and Wellesley</th>\n      <td>71</td>\n      <td>71</td>\n      <td>71</td>\n      <td>71</td>\n      <td>71</td>\n      <td>71</td>\n    </tr>\n    <tr>\n      <th>Commerce Court, Victoria Hotel</th>\n      <td>100</td>\n      <td>100</td>\n      <td>100</td>\n      <td>100</td>\n      <td>100</td>\n      <td>100</td>\n    </tr>\n    <tr>\n      <th>Davisville</th>\n      <td>33</td>\n      <td>33</td>\n      <td>33</td>\n      <td>33</td>\n      <td>33</td>\n      <td>33</td>\n    </tr>\n    <tr>\n      <th>Davisville North</th>\n      <td>7</td>\n      <td>7</td>\n      <td>7</td>\n      <td>7</td>\n      <td>7</td>\n      <td>7</td>\n    </tr>\n    <tr>\n      <th>Dufferin, Dovercourt Village</th>\n      <td>14</td>\n      <td>14</td>\n      <td>14</td>\n      <td>14</td>\n      <td>14</td>\n      <td>14</td>\n    </tr>\n    <tr>\n      <th>First Canadian Place, Underground city</th>\n      <td>100</td>\n      <td>100</td>\n      <td>100</td>\n      <td>100</td>\n      <td>100</td>\n      <td>100</td>\n    </tr>\n    <tr>\n      <th>Forest Hill North &amp; West, Forest Hill Road Park</th>\n      <td>5</td>\n      <td>5</td>\n      <td>5</td>\n      <td>5</td>\n      <td>5</td>\n      <td>5</td>\n    </tr>\n    <tr>\n      <th>Garden District, Ryerson</th>\n      <td>100</td>\n      <td>100</td>\n      <td>100</td>\n      <td>100</td>\n      <td>100</td>\n      <td>100</td>\n    </tr>\n    <tr>\n      <th>Harbourfront East, Union Station, Toronto Islands</th>\n      <td>100</td>\n      <td>100</td>\n      <td>100</td>\n      <td>100</td>\n      <td>100</td>\n      <td>100</td>\n    </tr>\n    <tr>\n      <th>High Park, The Junction South</th>\n      <td>24</td>\n      <td>24</td>\n      <td>24</td>\n      <td>24</td>\n      <td>24</td>\n      <td>24</td>\n    </tr>\n    <tr>\n      <th>India Bazaar, The Beaches West</th>\n      <td>19</td>\n      <td>19</td>\n      <td>19</td>\n      <td>19</td>\n      <td>19</td>\n      <td>19</td>\n    </tr>\n    <tr>\n      <th>Kensington Market, Chinatown, Grange Park</th>\n      <td>65</td>\n      <td>65</td>\n      <td>65</td>\n      <td>65</td>\n      <td>65</td>\n      <td>65</td>\n    </tr>\n    <tr>\n      <th>Lawrence Park</th>\n      <td>4</td>\n      <td>4</td>\n      <td>4</td>\n      <td>4</td>\n      <td>4</td>\n      <td>4</td>\n    </tr>\n    <tr>\n      <th>Little Portugal, Trinity</th>\n      <td>44</td>\n      <td>44</td>\n      <td>44</td>\n      <td>44</td>\n      <td>44</td>\n      <td>44</td>\n    </tr>\n    <tr>\n      <th>Moore Park, Summerhill East</th>\n      <td>2</td>\n      <td>2</td>\n      <td>2</td>\n      <td>2</td>\n      <td>2</td>\n      <td>2</td>\n    </tr>\n    <tr>\n      <th>North Toronto West,  Lawrence Park</th>\n      <td>20</td>\n      <td>20</td>\n      <td>20</td>\n      <td>20</td>\n      <td>20</td>\n      <td>20</td>\n    </tr>\n    <tr>\n      <th>Parkdale, Roncesvalles</th>\n      <td>14</td>\n      <td>14</td>\n      <td>14</td>\n      <td>14</td>\n      <td>14</td>\n      <td>14</td>\n    </tr>\n    <tr>\n      <th>Queen's Park, Ontario Provincial Government</th>\n      <td>34</td>\n      <td>34</td>\n      <td>34</td>\n      <td>34</td>\n      <td>34</td>\n      <td>34</td>\n    </tr>\n    <tr>\n      <th>Regent Park, Harbourfront</th>\n      <td>46</td>\n      <td>46</td>\n      <td>46</td>\n      <td>46</td>\n      <td>46</td>\n      <td>46</td>\n    </tr>\n    <tr>\n      <th>Richmond, Adelaide, King</th>\n      <td>97</td>\n      <td>97</td>\n      <td>97</td>\n      <td>97</td>\n      <td>97</td>\n      <td>97</td>\n    </tr>\n    <tr>\n      <th>Rosedale</th>\n      <td>4</td>\n      <td>4</td>\n      <td>4</td>\n      <td>4</td>\n      <td>4</td>\n      <td>4</td>\n    </tr>\n    <tr>\n      <th>Roselawn</th>\n      <td>1</td>\n      <td>1</td>\n      <td>1</td>\n      <td>1</td>\n      <td>1</td>\n      <td>1</td>\n    </tr>\n    <tr>\n      <th>Runnymede, Swansea</th>\n      <td>38</td>\n      <td>38</td>\n      <td>38</td>\n      <td>38</td>\n      <td>38</td>\n      <td>38</td>\n    </tr>\n    <tr>\n      <th>St. James Town</th>\n      <td>85</td>\n      <td>85</td>\n      <td>85</td>\n      <td>85</td>\n      <td>85</td>\n      <td>85</td>\n    </tr>\n    <tr>\n      <th>St. James Town, Cabbagetown</th>\n      <td>44</td>\n      <td>44</td>\n      <td>44</td>\n      <td>44</td>\n      <td>44</td>\n      <td>44</td>\n    </tr>\n    <tr>\n      <th>Stn A PO Boxes</th>\n      <td>98</td>\n      <td>98</td>\n      <td>98</td>\n      <td>98</td>\n      <td>98</td>\n      <td>98</td>\n    </tr>\n    <tr>\n      <th>Studio District</th>\n      <td>40</td>\n      <td>40</td>\n      <td>40</td>\n      <td>40</td>\n      <td>40</td>\n      <td>40</td>\n    </tr>\n    <tr>\n      <th>Summerhill West, Rathnelly, South Hill, Forest Hill SE, Deer Park</th>\n      <td>15</td>\n      <td>15</td>\n      <td>15</td>\n      <td>15</td>\n      <td>15</td>\n      <td>15</td>\n    </tr>\n    <tr>\n      <th>The Annex, North Midtown, Yorkville</th>\n      <td>21</td>\n      <td>21</td>\n      <td>21</td>\n      <td>21</td>\n      <td>21</td>\n      <td>21</td>\n    </tr>\n    <tr>\n      <th>The Beaches</th>\n      <td>4</td>\n      <td>4</td>\n      <td>4</td>\n      <td>4</td>\n      <td>4</td>\n      <td>4</td>\n    </tr>\n    <tr>\n      <th>The Danforth West, Riverdale</th>\n      <td>42</td>\n      <td>42</td>\n      <td>42</td>\n      <td>42</td>\n      <td>42</td>\n      <td>42</td>\n    </tr>\n    <tr>\n      <th>Toronto Dominion Centre, Design Exchange</th>\n      <td>100</td>\n      <td>100</td>\n      <td>100</td>\n      <td>100</td>\n      <td>100</td>\n      <td>100</td>\n    </tr>\n    <tr>\n      <th>University of Toronto, Harbord</th>\n      <td>36</td>\n      <td>36</td>\n      <td>36</td>\n      <td>36</td>\n      <td>36</td>\n      <td>36</td>\n    </tr>\n  </tbody>\n</table>\n</div>",
                        "text/plain": "                                                    Neighborhood Latitude  \\\nNeighborhood                                                                \nBerczy Park                                                            57   \nBrockton, Parkdale Village, Exhibition Place                           24   \nBusiness reply mail Processing Centre, South Ce...                     17   \nCN Tower, King and Spadina, Railway Lands, Harb...                     16   \nCentral Bay Street                                                     70   \nChristie                                                               17   \nChurch and Wellesley                                                   71   \nCommerce Court, Victoria Hotel                                        100   \nDavisville                                                             33   \nDavisville North                                                        7   \nDufferin, Dovercourt Village                                           14   \nFirst Canadian Place, Underground city                                100   \nForest Hill North & West, Forest Hill Road Park                         5   \nGarden District, Ryerson                                              100   \nHarbourfront East, Union Station, Toronto Islands                     100   \nHigh Park, The Junction South                                          24   \nIndia Bazaar, The Beaches West                                         19   \nKensington Market, Chinatown, Grange Park                              65   \nLawrence Park                                                           4   \nLittle Portugal, Trinity                                               44   \nMoore Park, Summerhill East                                             2   \nNorth Toronto West,  Lawrence Park                                     20   \nParkdale, Roncesvalles                                                 14   \nQueen's Park, Ontario Provincial Government                            34   \nRegent Park, Harbourfront                                              46   \nRichmond, Adelaide, King                                               97   \nRosedale                                                                4   \nRoselawn                                                                1   \nRunnymede, Swansea                                                     38   \nSt. James Town                                                         85   \nSt. James Town, Cabbagetown                                            44   \nStn A PO Boxes                                                         98   \nStudio District                                                        40   \nSummerhill West, Rathnelly, South Hill, Forest ...                     15   \nThe Annex, North Midtown, Yorkville                                    21   \nThe Beaches                                                             4   \nThe Danforth West, Riverdale                                           42   \nToronto Dominion Centre, Design Exchange                              100   \nUniversity of Toronto, Harbord                                         36   \n\n                                                    Neighborhood Longitude  \\\nNeighborhood                                                                 \nBerczy Park                                                             57   \nBrockton, Parkdale Village, Exhibition Place                            24   \nBusiness reply mail Processing Centre, South Ce...                      17   \nCN Tower, King and Spadina, Railway Lands, Harb...                      16   \nCentral Bay Street                                                      70   \nChristie                                                                17   \nChurch and Wellesley                                                    71   \nCommerce Court, Victoria Hotel                                         100   \nDavisville                                                              33   \nDavisville North                                                         7   \nDufferin, Dovercourt Village                                            14   \nFirst Canadian Place, Underground city                                 100   \nForest Hill North & West, Forest Hill Road Park                          5   \nGarden District, Ryerson                                               100   \nHarbourfront East, Union Station, Toronto Islands                      100   \nHigh Park, The Junction South                                           24   \nIndia Bazaar, The Beaches West                                          19   \nKensington Market, Chinatown, Grange Park                               65   \nLawrence Park                                                            4   \nLittle Portugal, Trinity                                                44   \nMoore Park, Summerhill East                                              2   \nNorth Toronto West,  Lawrence Park                                      20   \nParkdale, Roncesvalles                                                  14   \nQueen's Park, Ontario Provincial Government                             34   \nRegent Park, Harbourfront                                               46   \nRichmond, Adelaide, King                                                97   \nRosedale                                                                 4   \nRoselawn                                                                 1   \nRunnymede, Swansea                                                      38   \nSt. James Town                                                          85   \nSt. James Town, Cabbagetown                                             44   \nStn A PO Boxes                                                          98   \nStudio District                                                         40   \nSummerhill West, Rathnelly, South Hill, Forest ...                      15   \nThe Annex, North Midtown, Yorkville                                     21   \nThe Beaches                                                              4   \nThe Danforth West, Riverdale                                            42   \nToronto Dominion Centre, Design Exchange                               100   \nUniversity of Toronto, Harbord                                          36   \n\n                                                    Venue  Venue Latitude  \\\nNeighborhood                                                                \nBerczy Park                                            57              57   \nBrockton, Parkdale Village, Exhibition Place           24              24   \nBusiness reply mail Processing Centre, South Ce...     17              17   \nCN Tower, King and Spadina, Railway Lands, Harb...     16              16   \nCentral Bay Street                                     70              70   \nChristie                                               17              17   \nChurch and Wellesley                                   71              71   \nCommerce Court, Victoria Hotel                        100             100   \nDavisville                                             33              33   \nDavisville North                                        7               7   \nDufferin, Dovercourt Village                           14              14   \nFirst Canadian Place, Underground city                100             100   \nForest Hill North & West, Forest Hill Road Park         5               5   \nGarden District, Ryerson                              100             100   \nHarbourfront East, Union Station, Toronto Islands     100             100   \nHigh Park, The Junction South                          24              24   \nIndia Bazaar, The Beaches West                         19              19   \nKensington Market, Chinatown, Grange Park              65              65   \nLawrence Park                                           4               4   \nLittle Portugal, Trinity                               44              44   \nMoore Park, Summerhill East                             2               2   \nNorth Toronto West,  Lawrence Park                     20              20   \nParkdale, Roncesvalles                                 14              14   \nQueen's Park, Ontario Provincial Government            34              34   \nRegent Park, Harbourfront                              46              46   \nRichmond, Adelaide, King                               97              97   \nRosedale                                                4               4   \nRoselawn                                                1               1   \nRunnymede, Swansea                                     38              38   \nSt. James Town                                         85              85   \nSt. James Town, Cabbagetown                            44              44   \nStn A PO Boxes                                         98              98   \nStudio District                                        40              40   \nSummerhill West, Rathnelly, South Hill, Forest ...     15              15   \nThe Annex, North Midtown, Yorkville                    21              21   \nThe Beaches                                             4               4   \nThe Danforth West, Riverdale                           42              42   \nToronto Dominion Centre, Design Exchange              100             100   \nUniversity of Toronto, Harbord                         36              36   \n\n                                                    Venue Longitude  \\\nNeighborhood                                                          \nBerczy Park                                                      57   \nBrockton, Parkdale Village, Exhibition Place                     24   \nBusiness reply mail Processing Centre, South Ce...               17   \nCN Tower, King and Spadina, Railway Lands, Harb...               16   \nCentral Bay Street                                               70   \nChristie                                                         17   \nChurch and Wellesley                                             71   \nCommerce Court, Victoria Hotel                                  100   \nDavisville                                                       33   \nDavisville North                                                  7   \nDufferin, Dovercourt Village                                     14   \nFirst Canadian Place, Underground city                          100   \nForest Hill North & West, Forest Hill Road Park                   5   \nGarden District, Ryerson                                        100   \nHarbourfront East, Union Station, Toronto Islands               100   \nHigh Park, The Junction South                                    24   \nIndia Bazaar, The Beaches West                                   19   \nKensington Market, Chinatown, Grange Park                        65   \nLawrence Park                                                     4   \nLittle Portugal, Trinity                                         44   \nMoore Park, Summerhill East                                       2   \nNorth Toronto West,  Lawrence Park                               20   \nParkdale, Roncesvalles                                           14   \nQueen's Park, Ontario Provincial Government                      34   \nRegent Park, Harbourfront                                        46   \nRichmond, Adelaide, King                                         97   \nRosedale                                                          4   \nRoselawn                                                          1   \nRunnymede, Swansea                                               38   \nSt. James Town                                                   85   \nSt. James Town, Cabbagetown                                      44   \nStn A PO Boxes                                                   98   \nStudio District                                                  40   \nSummerhill West, Rathnelly, South Hill, Forest ...               15   \nThe Annex, North Midtown, Yorkville                              21   \nThe Beaches                                                       4   \nThe Danforth West, Riverdale                                     42   \nToronto Dominion Centre, Design Exchange                        100   \nUniversity of Toronto, Harbord                                   36   \n\n                                                    Venue Category  \nNeighborhood                                                        \nBerczy Park                                                     57  \nBrockton, Parkdale Village, Exhibition Place                    24  \nBusiness reply mail Processing Centre, South Ce...              17  \nCN Tower, King and Spadina, Railway Lands, Harb...              16  \nCentral Bay Street                                              70  \nChristie                                                        17  \nChurch and Wellesley                                            71  \nCommerce Court, Victoria Hotel                                 100  \nDavisville                                                      33  \nDavisville North                                                 7  \nDufferin, Dovercourt Village                                    14  \nFirst Canadian Place, Underground city                         100  \nForest Hill North & West, Forest Hill Road Park                  5  \nGarden District, Ryerson                                       100  \nHarbourfront East, Union Station, Toronto Islands              100  \nHigh Park, The Junction South                                   24  \nIndia Bazaar, The Beaches West                                  19  \nKensington Market, Chinatown, Grange Park                       65  \nLawrence Park                                                    4  \nLittle Portugal, Trinity                                        44  \nMoore Park, Summerhill East                                      2  \nNorth Toronto West,  Lawrence Park                              20  \nParkdale, Roncesvalles                                          14  \nQueen's Park, Ontario Provincial Government                     34  \nRegent Park, Harbourfront                                       46  \nRichmond, Adelaide, King                                        97  \nRosedale                                                         4  \nRoselawn                                                         1  \nRunnymede, Swansea                                              38  \nSt. James Town                                                  85  \nSt. James Town, Cabbagetown                                     44  \nStn A PO Boxes                                                  98  \nStudio District                                                 40  \nSummerhill West, Rathnelly, South Hill, Forest ...              15  \nThe Annex, North Midtown, Yorkville                             21  \nThe Beaches                                                      4  \nThe Danforth West, Riverdale                                    42  \nToronto Dominion Centre, Design Exchange                       100  \nUniversity of Toronto, Harbord                                  36  "
                    },
                    "execution_count": 32,
                    "metadata": {},
                    "output_type": "execute_result"
                }
            ],
            "source": "toronto_venues.groupby('Neighborhood').count()"
        },
        {
            "cell_type": "code",
            "execution_count": 33,
            "metadata": {},
            "outputs": [
                {
                    "data": {
                        "text/plain": "(1628, 229)"
                    },
                    "execution_count": 33,
                    "metadata": {},
                    "output_type": "execute_result"
                }
            ],
            "source": "toronto_onehot = pd.get_dummies(toronto_venues[['Venue Category']], prefix=\"\", prefix_sep=\"\")\ntoronto_onehot.drop(['Neighborhood'],axis=1,inplace=True) \ntoronto_onehot.insert(loc=0, column='Neighborhood', value=toronto_venues['Neighborhood'] )\ntoronto_onehot.shape"
        },
        {
            "cell_type": "code",
            "execution_count": 34,
            "metadata": {},
            "outputs": [
                {
                    "data": {
                        "text/html": "<div>\n<style scoped>\n    .dataframe tbody tr th:only-of-type {\n        vertical-align: middle;\n    }\n\n    .dataframe tbody tr th {\n        vertical-align: top;\n    }\n\n    .dataframe thead th {\n        text-align: right;\n    }\n</style>\n<table border=\"1\" class=\"dataframe\">\n  <thead>\n    <tr style=\"text-align: right;\">\n      <th></th>\n      <th>Neighborhood</th>\n      <th>Airport</th>\n      <th>Airport Food Court</th>\n      <th>Airport Gate</th>\n      <th>Airport Lounge</th>\n      <th>Airport Service</th>\n      <th>Airport Terminal</th>\n      <th>American Restaurant</th>\n      <th>Antique Shop</th>\n      <th>Aquarium</th>\n      <th>...</th>\n      <th>Trail</th>\n      <th>Train Station</th>\n      <th>Vegetarian / Vegan Restaurant</th>\n      <th>Video Game Store</th>\n      <th>Video Store</th>\n      <th>Vietnamese Restaurant</th>\n      <th>Wine Bar</th>\n      <th>Wine Shop</th>\n      <th>Women's Store</th>\n      <th>Yoga Studio</th>\n    </tr>\n  </thead>\n  <tbody>\n    <tr>\n      <th>0</th>\n      <td>Berczy Park</td>\n      <td>0.0000</td>\n      <td>0.0000</td>\n      <td>0.0000</td>\n      <td>0.000</td>\n      <td>0.0000</td>\n      <td>0.000</td>\n      <td>0.0</td>\n      <td>0.0</td>\n      <td>0.0</td>\n      <td>...</td>\n      <td>0.0</td>\n      <td>0.0</td>\n      <td>0.017544</td>\n      <td>0.0</td>\n      <td>0.000000</td>\n      <td>0.0</td>\n      <td>0.000000</td>\n      <td>0.0</td>\n      <td>0.0</td>\n      <td>0.000000</td>\n    </tr>\n    <tr>\n      <th>1</th>\n      <td>Brockton, Parkdale Village, Exhibition Place</td>\n      <td>0.0000</td>\n      <td>0.0000</td>\n      <td>0.0000</td>\n      <td>0.000</td>\n      <td>0.0000</td>\n      <td>0.000</td>\n      <td>0.0</td>\n      <td>0.0</td>\n      <td>0.0</td>\n      <td>...</td>\n      <td>0.0</td>\n      <td>0.0</td>\n      <td>0.000000</td>\n      <td>0.0</td>\n      <td>0.000000</td>\n      <td>0.0</td>\n      <td>0.000000</td>\n      <td>0.0</td>\n      <td>0.0</td>\n      <td>0.083333</td>\n    </tr>\n    <tr>\n      <th>2</th>\n      <td>Business reply mail Processing Centre, South C...</td>\n      <td>0.0000</td>\n      <td>0.0000</td>\n      <td>0.0000</td>\n      <td>0.000</td>\n      <td>0.0000</td>\n      <td>0.000</td>\n      <td>0.0</td>\n      <td>0.0</td>\n      <td>0.0</td>\n      <td>...</td>\n      <td>0.0</td>\n      <td>0.0</td>\n      <td>0.000000</td>\n      <td>0.0</td>\n      <td>0.000000</td>\n      <td>0.0</td>\n      <td>0.000000</td>\n      <td>0.0</td>\n      <td>0.0</td>\n      <td>0.000000</td>\n    </tr>\n    <tr>\n      <th>3</th>\n      <td>CN Tower, King and Spadina, Railway Lands, Har...</td>\n      <td>0.0625</td>\n      <td>0.0625</td>\n      <td>0.0625</td>\n      <td>0.125</td>\n      <td>0.1875</td>\n      <td>0.125</td>\n      <td>0.0</td>\n      <td>0.0</td>\n      <td>0.0</td>\n      <td>...</td>\n      <td>0.0</td>\n      <td>0.0</td>\n      <td>0.000000</td>\n      <td>0.0</td>\n      <td>0.000000</td>\n      <td>0.0</td>\n      <td>0.000000</td>\n      <td>0.0</td>\n      <td>0.0</td>\n      <td>0.000000</td>\n    </tr>\n    <tr>\n      <th>4</th>\n      <td>Central Bay Street</td>\n      <td>0.0000</td>\n      <td>0.0000</td>\n      <td>0.0000</td>\n      <td>0.000</td>\n      <td>0.0000</td>\n      <td>0.000</td>\n      <td>0.0</td>\n      <td>0.0</td>\n      <td>0.0</td>\n      <td>...</td>\n      <td>0.0</td>\n      <td>0.0</td>\n      <td>0.014286</td>\n      <td>0.0</td>\n      <td>0.014286</td>\n      <td>0.0</td>\n      <td>0.014286</td>\n      <td>0.0</td>\n      <td>0.0</td>\n      <td>0.014286</td>\n    </tr>\n  </tbody>\n</table>\n<p>5 rows \u00d7 229 columns</p>\n</div>",
                        "text/plain": "                                        Neighborhood  Airport  \\\n0                                        Berczy Park   0.0000   \n1       Brockton, Parkdale Village, Exhibition Place   0.0000   \n2  Business reply mail Processing Centre, South C...   0.0000   \n3  CN Tower, King and Spadina, Railway Lands, Har...   0.0625   \n4                                 Central Bay Street   0.0000   \n\n   Airport Food Court  Airport Gate  Airport Lounge  Airport Service  \\\n0              0.0000        0.0000           0.000           0.0000   \n1              0.0000        0.0000           0.000           0.0000   \n2              0.0000        0.0000           0.000           0.0000   \n3              0.0625        0.0625           0.125           0.1875   \n4              0.0000        0.0000           0.000           0.0000   \n\n   Airport Terminal  American Restaurant  Antique Shop  Aquarium  ...  Trail  \\\n0             0.000                  0.0           0.0       0.0  ...    0.0   \n1             0.000                  0.0           0.0       0.0  ...    0.0   \n2             0.000                  0.0           0.0       0.0  ...    0.0   \n3             0.125                  0.0           0.0       0.0  ...    0.0   \n4             0.000                  0.0           0.0       0.0  ...    0.0   \n\n   Train Station  Vegetarian / Vegan Restaurant  Video Game Store  \\\n0            0.0                       0.017544               0.0   \n1            0.0                       0.000000               0.0   \n2            0.0                       0.000000               0.0   \n3            0.0                       0.000000               0.0   \n4            0.0                       0.014286               0.0   \n\n   Video Store  Vietnamese Restaurant  Wine Bar  Wine Shop  Women's Store  \\\n0     0.000000                    0.0  0.000000        0.0            0.0   \n1     0.000000                    0.0  0.000000        0.0            0.0   \n2     0.000000                    0.0  0.000000        0.0            0.0   \n3     0.000000                    0.0  0.000000        0.0            0.0   \n4     0.014286                    0.0  0.014286        0.0            0.0   \n\n   Yoga Studio  \n0     0.000000  \n1     0.083333  \n2     0.000000  \n3     0.000000  \n4     0.014286  \n\n[5 rows x 229 columns]"
                    },
                    "execution_count": 34,
                    "metadata": {},
                    "output_type": "execute_result"
                }
            ],
            "source": "toronto_grouped = toronto_onehot.groupby('Neighborhood').mean().reset_index()\ntoronto_grouped.head()"
        },
        {
            "cell_type": "code",
            "execution_count": 35,
            "metadata": {},
            "outputs": [],
            "source": "def return_most_common_venues(row, num_top_venues):\n    row_categories = row.iloc[1:]\n    row_categories_sorted = row_categories.sort_values(ascending=False)\n    \n    return row_categories_sorted.index.values[0:num_top_venues]"
        },
        {
            "cell_type": "code",
            "execution_count": 41,
            "metadata": {},
            "outputs": [
                {
                    "data": {
                        "text/html": "<div>\n<style scoped>\n    .dataframe tbody tr th:only-of-type {\n        vertical-align: middle;\n    }\n\n    .dataframe tbody tr th {\n        vertical-align: top;\n    }\n\n    .dataframe thead th {\n        text-align: right;\n    }\n</style>\n<table border=\"1\" class=\"dataframe\">\n  <thead>\n    <tr style=\"text-align: right;\">\n      <th></th>\n      <th>Neighborhood</th>\n      <th>1st Most Common Venue</th>\n      <th>2nd Most Common Venue</th>\n      <th>3rd Most Common Venue</th>\n      <th>4th Most Common Venue</th>\n      <th>5th Most Common Venue</th>\n      <th>6th Most Common Venue</th>\n      <th>7th Most Common Venue</th>\n      <th>8th Most Common Venue</th>\n      <th>9th Most Common Venue</th>\n      <th>10th Most Common Venue</th>\n    </tr>\n  </thead>\n  <tbody>\n    <tr>\n      <th>0</th>\n      <td>Berczy Park</td>\n      <td>Coffee Shop</td>\n      <td>Cocktail Bar</td>\n      <td>Caf\u00e9</td>\n      <td>Bakery</td>\n      <td>Pharmacy</td>\n      <td>Farmers Market</td>\n      <td>Cheese Shop</td>\n      <td>Restaurant</td>\n      <td>Seafood Restaurant</td>\n      <td>Beer Bar</td>\n    </tr>\n    <tr>\n      <th>1</th>\n      <td>Brockton, Parkdale Village, Exhibition Place</td>\n      <td>Caf\u00e9</td>\n      <td>Yoga Studio</td>\n      <td>Breakfast Spot</td>\n      <td>Coffee Shop</td>\n      <td>Bakery</td>\n      <td>Stadium</td>\n      <td>Burrito Place</td>\n      <td>Restaurant</td>\n      <td>Climbing Gym</td>\n      <td>Pet Store</td>\n    </tr>\n    <tr>\n      <th>2</th>\n      <td>Business reply mail Processing Centre, South C...</td>\n      <td>Light Rail Station</td>\n      <td>Garden</td>\n      <td>Auto Workshop</td>\n      <td>Skate Park</td>\n      <td>Fast Food Restaurant</td>\n      <td>Spa</td>\n      <td>Restaurant</td>\n      <td>Pizza Place</td>\n      <td>Burrito Place</td>\n      <td>Farmers Market</td>\n    </tr>\n    <tr>\n      <th>3</th>\n      <td>CN Tower, King and Spadina, Railway Lands, Har...</td>\n      <td>Airport Service</td>\n      <td>Airport Lounge</td>\n      <td>Airport Terminal</td>\n      <td>Airport</td>\n      <td>Boutique</td>\n      <td>Sculpture Garden</td>\n      <td>Coffee Shop</td>\n      <td>Boat or Ferry</td>\n      <td>Harbor / Marina</td>\n      <td>Airport Gate</td>\n    </tr>\n    <tr>\n      <th>4</th>\n      <td>Central Bay Street</td>\n      <td>Coffee Shop</td>\n      <td>Sandwich Place</td>\n      <td>Italian Restaurant</td>\n      <td>Caf\u00e9</td>\n      <td>Japanese Restaurant</td>\n      <td>Bar</td>\n      <td>Department Store</td>\n      <td>Thai Restaurant</td>\n      <td>Middle Eastern Restaurant</td>\n      <td>Burger Joint</td>\n    </tr>\n  </tbody>\n</table>\n</div>",
                        "text/plain": "                                        Neighborhood 1st Most Common Venue  \\\n0                                        Berczy Park           Coffee Shop   \n1       Brockton, Parkdale Village, Exhibition Place                  Caf\u00e9   \n2  Business reply mail Processing Centre, South C...    Light Rail Station   \n3  CN Tower, King and Spadina, Railway Lands, Har...       Airport Service   \n4                                 Central Bay Street           Coffee Shop   \n\n  2nd Most Common Venue 3rd Most Common Venue 4th Most Common Venue  \\\n0          Cocktail Bar                  Caf\u00e9                Bakery   \n1           Yoga Studio        Breakfast Spot           Coffee Shop   \n2                Garden         Auto Workshop            Skate Park   \n3        Airport Lounge      Airport Terminal               Airport   \n4        Sandwich Place    Italian Restaurant                  Caf\u00e9   \n\n  5th Most Common Venue 6th Most Common Venue 7th Most Common Venue  \\\n0              Pharmacy        Farmers Market           Cheese Shop   \n1                Bakery               Stadium         Burrito Place   \n2  Fast Food Restaurant                   Spa            Restaurant   \n3              Boutique      Sculpture Garden           Coffee Shop   \n4   Japanese Restaurant                   Bar      Department Store   \n\n  8th Most Common Venue      9th Most Common Venue 10th Most Common Venue  \n0            Restaurant         Seafood Restaurant               Beer Bar  \n1            Restaurant               Climbing Gym              Pet Store  \n2           Pizza Place              Burrito Place         Farmers Market  \n3         Boat or Ferry            Harbor / Marina           Airport Gate  \n4       Thai Restaurant  Middle Eastern Restaurant           Burger Joint  "
                    },
                    "execution_count": 41,
                    "metadata": {},
                    "output_type": "execute_result"
                }
            ],
            "source": "num_top_venues = 10\n\nindicators = ['st', 'nd', 'rd']\n\ncolumns = ['Neighborhood']\nfor ind in np.arange(num_top_venues):\n    try:\n        columns.append('{}{} Most Common Venue'.format(ind+1, indicators[ind]))\n    except:\n        columns.append('{}th Most Common Venue'.format(ind+1))\n\n\nneighborhoods_venues_sorted = pd.DataFrame(columns=columns)\nneighborhoods_venues_sorted['Neighborhood'] = toronto_grouped['Neighborhood']\n\nfor ind in np.arange(toronto_grouped.shape[0]):\n    neighborhoods_venues_sorted.iloc[ind, 1:] = return_most_common_venues(toronto_grouped.iloc[ind, :], num_top_venues)\n\nneighborhoods_venues_sorted.head()"
        },
        {
            "cell_type": "code",
            "execution_count": 42,
            "metadata": {},
            "outputs": [],
            "source": "def return_most_common_venues(row, num_top_venues):\n    row_categories = row.iloc[1:]\n    row_categories_sorted = row_categories.sort_values(ascending=False)\n    \n    return row_categories_sorted.index.values[0:num_top_venues]"
        },
        {
            "cell_type": "code",
            "execution_count": 43,
            "metadata": {},
            "outputs": [
                {
                    "data": {
                        "text/html": "<div>\n<style scoped>\n    .dataframe tbody tr th:only-of-type {\n        vertical-align: middle;\n    }\n\n    .dataframe tbody tr th {\n        vertical-align: top;\n    }\n\n    .dataframe thead th {\n        text-align: right;\n    }\n</style>\n<table border=\"1\" class=\"dataframe\">\n  <thead>\n    <tr style=\"text-align: right;\">\n      <th></th>\n      <th>Neighborhood</th>\n      <th>1st Most Common Venue</th>\n      <th>2nd Most Common Venue</th>\n      <th>3rd Most Common Venue</th>\n      <th>4th Most Common Venue</th>\n      <th>5th Most Common Venue</th>\n      <th>6th Most Common Venue</th>\n      <th>7th Most Common Venue</th>\n      <th>8th Most Common Venue</th>\n      <th>9th Most Common Venue</th>\n      <th>10th Most Common Venue</th>\n    </tr>\n  </thead>\n  <tbody>\n    <tr>\n      <th>0</th>\n      <td>Berczy Park</td>\n      <td>Coffee Shop</td>\n      <td>Cocktail Bar</td>\n      <td>Caf\u00e9</td>\n      <td>Bakery</td>\n      <td>Pharmacy</td>\n      <td>Farmers Market</td>\n      <td>Cheese Shop</td>\n      <td>Restaurant</td>\n      <td>Seafood Restaurant</td>\n      <td>Beer Bar</td>\n    </tr>\n    <tr>\n      <th>1</th>\n      <td>Brockton, Parkdale Village, Exhibition Place</td>\n      <td>Caf\u00e9</td>\n      <td>Yoga Studio</td>\n      <td>Breakfast Spot</td>\n      <td>Coffee Shop</td>\n      <td>Bakery</td>\n      <td>Stadium</td>\n      <td>Burrito Place</td>\n      <td>Restaurant</td>\n      <td>Climbing Gym</td>\n      <td>Pet Store</td>\n    </tr>\n    <tr>\n      <th>2</th>\n      <td>Business reply mail Processing Centre, South C...</td>\n      <td>Light Rail Station</td>\n      <td>Garden</td>\n      <td>Auto Workshop</td>\n      <td>Skate Park</td>\n      <td>Fast Food Restaurant</td>\n      <td>Spa</td>\n      <td>Restaurant</td>\n      <td>Pizza Place</td>\n      <td>Burrito Place</td>\n      <td>Farmers Market</td>\n    </tr>\n    <tr>\n      <th>3</th>\n      <td>CN Tower, King and Spadina, Railway Lands, Har...</td>\n      <td>Airport Service</td>\n      <td>Airport Lounge</td>\n      <td>Airport Terminal</td>\n      <td>Airport</td>\n      <td>Boutique</td>\n      <td>Sculpture Garden</td>\n      <td>Coffee Shop</td>\n      <td>Boat or Ferry</td>\n      <td>Harbor / Marina</td>\n      <td>Airport Gate</td>\n    </tr>\n    <tr>\n      <th>4</th>\n      <td>Central Bay Street</td>\n      <td>Coffee Shop</td>\n      <td>Sandwich Place</td>\n      <td>Italian Restaurant</td>\n      <td>Caf\u00e9</td>\n      <td>Japanese Restaurant</td>\n      <td>Bar</td>\n      <td>Department Store</td>\n      <td>Thai Restaurant</td>\n      <td>Middle Eastern Restaurant</td>\n      <td>Burger Joint</td>\n    </tr>\n  </tbody>\n</table>\n</div>",
                        "text/plain": "                                        Neighborhood 1st Most Common Venue  \\\n0                                        Berczy Park           Coffee Shop   \n1       Brockton, Parkdale Village, Exhibition Place                  Caf\u00e9   \n2  Business reply mail Processing Centre, South C...    Light Rail Station   \n3  CN Tower, King and Spadina, Railway Lands, Har...       Airport Service   \n4                                 Central Bay Street           Coffee Shop   \n\n  2nd Most Common Venue 3rd Most Common Venue 4th Most Common Venue  \\\n0          Cocktail Bar                  Caf\u00e9                Bakery   \n1           Yoga Studio        Breakfast Spot           Coffee Shop   \n2                Garden         Auto Workshop            Skate Park   \n3        Airport Lounge      Airport Terminal               Airport   \n4        Sandwich Place    Italian Restaurant                  Caf\u00e9   \n\n  5th Most Common Venue 6th Most Common Venue 7th Most Common Venue  \\\n0              Pharmacy        Farmers Market           Cheese Shop   \n1                Bakery               Stadium         Burrito Place   \n2  Fast Food Restaurant                   Spa            Restaurant   \n3              Boutique      Sculpture Garden           Coffee Shop   \n4   Japanese Restaurant                   Bar      Department Store   \n\n  8th Most Common Venue      9th Most Common Venue 10th Most Common Venue  \n0            Restaurant         Seafood Restaurant               Beer Bar  \n1            Restaurant               Climbing Gym              Pet Store  \n2           Pizza Place              Burrito Place         Farmers Market  \n3         Boat or Ferry            Harbor / Marina           Airport Gate  \n4       Thai Restaurant  Middle Eastern Restaurant           Burger Joint  "
                    },
                    "execution_count": 43,
                    "metadata": {},
                    "output_type": "execute_result"
                }
            ],
            "source": "num_top_venues = 10\n\nindicators = ['st', 'nd', 'rd']\n\n\ncolumns = ['Neighborhood']\nfor ind in np.arange(num_top_venues):\n    try:\n        columns.append('{}{} Most Common Venue'.format(ind+1, indicators[ind]))\n    except:\n        columns.append('{}th Most Common Venue'.format(ind+1))\n\n\nneighborhoods_venues_sorted = pd.DataFrame(columns=columns)\nneighborhoods_venues_sorted['Neighborhood'] = toronto_grouped['Neighborhood']\n\nfor ind in np.arange(toronto_grouped.shape[0]):\n    neighborhoods_venues_sorted.iloc[ind, 1:] = return_most_common_venues(toronto_grouped.iloc[ind, :], num_top_venues)\n\nneighborhoods_venues_sorted.head()"
        },
        {
            "cell_type": "markdown",
            "metadata": {},
            "source": "## Making Clusters for Neighborhood"
        },
        {
            "cell_type": "code",
            "execution_count": 44,
            "metadata": {},
            "outputs": [
                {
                    "data": {
                        "text/plain": "array([0, 0, 4, 4, 0, 0, 0, 0, 0, 4], dtype=int32)"
                    },
                    "execution_count": 44,
                    "metadata": {},
                    "output_type": "execute_result"
                }
            ],
            "source": "kclusters = 5\n\ntoronto_grouped_clustering = toronto_grouped.drop('Neighborhood', 1)\n\n\nkmeans = KMeans(n_clusters=kclusters, random_state=0).fit(toronto_grouped_clustering)\n\n\nkmeans.labels_[0:10]"
        },
        {
            "cell_type": "code",
            "execution_count": 45,
            "metadata": {},
            "outputs": [
                {
                    "data": {
                        "text/html": "<div>\n<style scoped>\n    .dataframe tbody tr th:only-of-type {\n        vertical-align: middle;\n    }\n\n    .dataframe tbody tr th {\n        vertical-align: top;\n    }\n\n    .dataframe thead th {\n        text-align: right;\n    }\n</style>\n<table border=\"1\" class=\"dataframe\">\n  <thead>\n    <tr style=\"text-align: right;\">\n      <th></th>\n      <th>Postalcode</th>\n      <th>Borough</th>\n      <th>Neighborhood</th>\n      <th>Latitude</th>\n      <th>Longitude</th>\n      <th>Cluster Labels</th>\n      <th>1st Most Common Venue</th>\n      <th>2nd Most Common Venue</th>\n      <th>3rd Most Common Venue</th>\n      <th>4th Most Common Venue</th>\n      <th>5th Most Common Venue</th>\n      <th>6th Most Common Venue</th>\n      <th>7th Most Common Venue</th>\n      <th>8th Most Common Venue</th>\n      <th>9th Most Common Venue</th>\n      <th>10th Most Common Venue</th>\n    </tr>\n  </thead>\n  <tbody>\n    <tr>\n      <th>37</th>\n      <td>M4E</td>\n      <td>East Toronto</td>\n      <td>The Beaches</td>\n      <td>43.676357</td>\n      <td>-79.293031</td>\n      <td>4</td>\n      <td>Health Food Store</td>\n      <td>Pub</td>\n      <td>Trail</td>\n      <td>Yoga Studio</td>\n      <td>Deli / Bodega</td>\n      <td>Electronics Store</td>\n      <td>Eastern European Restaurant</td>\n      <td>Dumpling Restaurant</td>\n      <td>Donut Shop</td>\n      <td>Doner Restaurant</td>\n    </tr>\n    <tr>\n      <th>41</th>\n      <td>M4K</td>\n      <td>East Toronto</td>\n      <td>The Danforth West, Riverdale</td>\n      <td>43.679557</td>\n      <td>-79.352188</td>\n      <td>0</td>\n      <td>Greek Restaurant</td>\n      <td>Coffee Shop</td>\n      <td>Italian Restaurant</td>\n      <td>Ice Cream Shop</td>\n      <td>Furniture / Home Store</td>\n      <td>Restaurant</td>\n      <td>Bubble Tea Shop</td>\n      <td>Bakery</td>\n      <td>Pub</td>\n      <td>Pizza Place</td>\n    </tr>\n    <tr>\n      <th>42</th>\n      <td>M4L</td>\n      <td>East Toronto</td>\n      <td>India Bazaar, The Beaches West</td>\n      <td>43.668999</td>\n      <td>-79.315572</td>\n      <td>4</td>\n      <td>Park</td>\n      <td>Pub</td>\n      <td>Burrito Place</td>\n      <td>Sandwich Place</td>\n      <td>Italian Restaurant</td>\n      <td>Intersection</td>\n      <td>Steakhouse</td>\n      <td>Fast Food Restaurant</td>\n      <td>Restaurant</td>\n      <td>Sushi Restaurant</td>\n    </tr>\n    <tr>\n      <th>43</th>\n      <td>M4M</td>\n      <td>East Toronto</td>\n      <td>Studio District</td>\n      <td>43.659526</td>\n      <td>-79.340923</td>\n      <td>0</td>\n      <td>Caf\u00e9</td>\n      <td>Coffee Shop</td>\n      <td>Gastropub</td>\n      <td>Brewery</td>\n      <td>Bakery</td>\n      <td>American Restaurant</td>\n      <td>Yoga Studio</td>\n      <td>Comfort Food Restaurant</td>\n      <td>Seafood Restaurant</td>\n      <td>Sandwich Place</td>\n    </tr>\n    <tr>\n      <th>44</th>\n      <td>M4N</td>\n      <td>Central Toronto</td>\n      <td>Lawrence Park</td>\n      <td>43.728020</td>\n      <td>-79.388790</td>\n      <td>3</td>\n      <td>Park</td>\n      <td>Swim School</td>\n      <td>Bus Line</td>\n      <td>Department Store</td>\n      <td>Electronics Store</td>\n      <td>Eastern European Restaurant</td>\n      <td>Dumpling Restaurant</td>\n      <td>Donut Shop</td>\n      <td>Doner Restaurant</td>\n      <td>Dog Run</td>\n    </tr>\n  </tbody>\n</table>\n</div>",
                        "text/plain": "   Postalcode          Borough                    Neighborhood   Latitude  \\\n37        M4E     East Toronto                     The Beaches  43.676357   \n41        M4K     East Toronto    The Danforth West, Riverdale  43.679557   \n42        M4L     East Toronto  India Bazaar, The Beaches West  43.668999   \n43        M4M     East Toronto                 Studio District  43.659526   \n44        M4N  Central Toronto                   Lawrence Park  43.728020   \n\n    Longitude  Cluster Labels 1st Most Common Venue 2nd Most Common Venue  \\\n37 -79.293031               4     Health Food Store                   Pub   \n41 -79.352188               0      Greek Restaurant           Coffee Shop   \n42 -79.315572               4                  Park                   Pub   \n43 -79.340923               0                  Caf\u00e9           Coffee Shop   \n44 -79.388790               3                  Park           Swim School   \n\n   3rd Most Common Venue 4th Most Common Venue   5th Most Common Venue  \\\n37                 Trail           Yoga Studio           Deli / Bodega   \n41    Italian Restaurant        Ice Cream Shop  Furniture / Home Store   \n42         Burrito Place        Sandwich Place      Italian Restaurant   \n43             Gastropub               Brewery                  Bakery   \n44              Bus Line      Department Store       Electronics Store   \n\n          6th Most Common Venue        7th Most Common Venue  \\\n37            Electronics Store  Eastern European Restaurant   \n41                   Restaurant              Bubble Tea Shop   \n42                 Intersection                   Steakhouse   \n43          American Restaurant                  Yoga Studio   \n44  Eastern European Restaurant          Dumpling Restaurant   \n\n      8th Most Common Venue 9th Most Common Venue 10th Most Common Venue  \n37      Dumpling Restaurant            Donut Shop       Doner Restaurant  \n41                   Bakery                   Pub            Pizza Place  \n42     Fast Food Restaurant            Restaurant       Sushi Restaurant  \n43  Comfort Food Restaurant    Seafood Restaurant         Sandwich Place  \n44               Donut Shop      Doner Restaurant                Dog Run  "
                    },
                    "execution_count": 45,
                    "metadata": {},
                    "output_type": "execute_result"
                }
            ],
            "source": "\nneighborhoods_venues_sorted.insert(0, 'Cluster Labels', kmeans.labels_)\n\ntoronto_merged = toronto_data\n\n\ntoronto_merged = toronto_merged.join(neighborhoods_venues_sorted.set_index('Neighborhood'), on='Neighborhood')\n\ntoronto_merged.head()"
        },
        {
            "cell_type": "code",
            "execution_count": 46,
            "metadata": {},
            "outputs": [
                {
                    "data": {
                        "text/html": "<div>\n<style scoped>\n    .dataframe tbody tr th:only-of-type {\n        vertical-align: middle;\n    }\n\n    .dataframe tbody tr th {\n        vertical-align: top;\n    }\n\n    .dataframe thead th {\n        text-align: right;\n    }\n</style>\n<table border=\"1\" class=\"dataframe\">\n  <thead>\n    <tr style=\"text-align: right;\">\n      <th></th>\n      <th>Cluster Labels</th>\n      <th>Neighborhood</th>\n      <th>1st Most Common Venue</th>\n      <th>2nd Most Common Venue</th>\n      <th>3rd Most Common Venue</th>\n      <th>4th Most Common Venue</th>\n      <th>5th Most Common Venue</th>\n      <th>6th Most Common Venue</th>\n      <th>7th Most Common Venue</th>\n      <th>8th Most Common Venue</th>\n      <th>9th Most Common Venue</th>\n      <th>10th Most Common Venue</th>\n    </tr>\n  </thead>\n  <tbody>\n    <tr>\n      <th>0</th>\n      <td>0</td>\n      <td>Berczy Park</td>\n      <td>Coffee Shop</td>\n      <td>Cocktail Bar</td>\n      <td>Caf\u00e9</td>\n      <td>Bakery</td>\n      <td>Pharmacy</td>\n      <td>Farmers Market</td>\n      <td>Cheese Shop</td>\n      <td>Restaurant</td>\n      <td>Seafood Restaurant</td>\n      <td>Beer Bar</td>\n    </tr>\n    <tr>\n      <th>1</th>\n      <td>0</td>\n      <td>Brockton, Parkdale Village, Exhibition Place</td>\n      <td>Caf\u00e9</td>\n      <td>Yoga Studio</td>\n      <td>Breakfast Spot</td>\n      <td>Coffee Shop</td>\n      <td>Bakery</td>\n      <td>Stadium</td>\n      <td>Burrito Place</td>\n      <td>Restaurant</td>\n      <td>Climbing Gym</td>\n      <td>Pet Store</td>\n    </tr>\n    <tr>\n      <th>2</th>\n      <td>4</td>\n      <td>Business reply mail Processing Centre, South C...</td>\n      <td>Light Rail Station</td>\n      <td>Garden</td>\n      <td>Auto Workshop</td>\n      <td>Skate Park</td>\n      <td>Fast Food Restaurant</td>\n      <td>Spa</td>\n      <td>Restaurant</td>\n      <td>Pizza Place</td>\n      <td>Burrito Place</td>\n      <td>Farmers Market</td>\n    </tr>\n    <tr>\n      <th>3</th>\n      <td>4</td>\n      <td>CN Tower, King and Spadina, Railway Lands, Har...</td>\n      <td>Airport Service</td>\n      <td>Airport Lounge</td>\n      <td>Airport Terminal</td>\n      <td>Airport</td>\n      <td>Boutique</td>\n      <td>Sculpture Garden</td>\n      <td>Coffee Shop</td>\n      <td>Boat or Ferry</td>\n      <td>Harbor / Marina</td>\n      <td>Airport Gate</td>\n    </tr>\n    <tr>\n      <th>4</th>\n      <td>0</td>\n      <td>Central Bay Street</td>\n      <td>Coffee Shop</td>\n      <td>Sandwich Place</td>\n      <td>Italian Restaurant</td>\n      <td>Caf\u00e9</td>\n      <td>Japanese Restaurant</td>\n      <td>Bar</td>\n      <td>Department Store</td>\n      <td>Thai Restaurant</td>\n      <td>Middle Eastern Restaurant</td>\n      <td>Burger Joint</td>\n    </tr>\n  </tbody>\n</table>\n</div>",
                        "text/plain": "   Cluster Labels                                       Neighborhood  \\\n0               0                                        Berczy Park   \n1               0       Brockton, Parkdale Village, Exhibition Place   \n2               4  Business reply mail Processing Centre, South C...   \n3               4  CN Tower, King and Spadina, Railway Lands, Har...   \n4               0                                 Central Bay Street   \n\n  1st Most Common Venue 2nd Most Common Venue 3rd Most Common Venue  \\\n0           Coffee Shop          Cocktail Bar                  Caf\u00e9   \n1                  Caf\u00e9           Yoga Studio        Breakfast Spot   \n2    Light Rail Station                Garden         Auto Workshop   \n3       Airport Service        Airport Lounge      Airport Terminal   \n4           Coffee Shop        Sandwich Place    Italian Restaurant   \n\n  4th Most Common Venue 5th Most Common Venue 6th Most Common Venue  \\\n0                Bakery              Pharmacy        Farmers Market   \n1           Coffee Shop                Bakery               Stadium   \n2            Skate Park  Fast Food Restaurant                   Spa   \n3               Airport              Boutique      Sculpture Garden   \n4                  Caf\u00e9   Japanese Restaurant                   Bar   \n\n  7th Most Common Venue 8th Most Common Venue      9th Most Common Venue  \\\n0           Cheese Shop            Restaurant         Seafood Restaurant   \n1         Burrito Place            Restaurant               Climbing Gym   \n2            Restaurant           Pizza Place              Burrito Place   \n3           Coffee Shop         Boat or Ferry            Harbor / Marina   \n4      Department Store       Thai Restaurant  Middle Eastern Restaurant   \n\n  10th Most Common Venue  \n0               Beer Bar  \n1              Pet Store  \n2         Farmers Market  \n3           Airport Gate  \n4           Burger Joint  "
                    },
                    "execution_count": 46,
                    "metadata": {},
                    "output_type": "execute_result"
                }
            ],
            "source": "neighborhoods_venues_sorted.head()"
        },
        {
            "cell_type": "code",
            "execution_count": null,
            "metadata": {},
            "outputs": [],
            "source": "address = 'Toronto, CA'\n\ngeolocator = Nominatim(user_agent=\"ny_explorer\")\nlocation = geolocator.geocode(address)\nlatitude = location.latitude\nlongitude = location.longitude\nprint('The geograpical coordinate of Toronto are {}, {}.'.format(latitude, longitude))"
        },
        {
            "cell_type": "code",
            "execution_count": null,
            "metadata": {},
            "outputs": [],
            "source": "map_clusters = folium.Map(location=[latitude, longitude], zoom_start=11)\n\n\nx = np.arange(kclusters)\nys = [i + x + (i*x)**2 for i in range(kclusters)]\ncolors_array = cm.rainbow(np.linspace(0, 1, len(ys)))\nrainbow = [colors.rgb2hex(i) for i in colors_array]\n\n\nmarkers_colors = []\nfor lat, lon, poi, cluster in zip(toronto_merged['Latitude'], toronto_merged['Longitude'], toronto_merged['Neighborhood'], toronto_merged['Cluster Labels']):\n    label = folium.Popup(str(poi) + ' Cluster ' + str(cluster), parse_html=True)\n    folium.CircleMarker(\n        [lat, lon],\n        radius=5,\n        popup=label,\n        color=rainbow[cluster-1],\n        fill=True,\n        fill_color=rainbow[cluster-1],\n        fill_opacity=0.7).add_to(map_clusters)\n       \nmap_clusters"
        },
        {
            "cell_type": "code",
            "execution_count": null,
            "metadata": {},
            "outputs": [],
            "source": ""
        }
    ],
    "metadata": {
        "kernelspec": {
            "display_name": "Python 3.6",
            "language": "python",
            "name": "python3"
        },
        "language_info": {
            "codemirror_mode": {
                "name": "ipython",
                "version": 3
            },
            "file_extension": ".py",
            "mimetype": "text/x-python",
            "name": "python",
            "nbconvert_exporter": "python",
            "pygments_lexer": "ipython3",
            "version": "3.6.9"
        }
    },
    "nbformat": 4,
    "nbformat_minor": 1
}